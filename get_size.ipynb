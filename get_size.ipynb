{
 "cells": [
  {
   "cell_type": "code",
   "execution_count": 1,
   "metadata": {},
   "outputs": [],
   "source": [
    "import sys"
   ]
  },
  {
   "cell_type": "code",
   "execution_count": 12,
   "metadata": {},
   "outputs": [],
   "source": [
    "def get_size(y):\n",
    "    # Функция для получения полного занимаемого объема\n",
    "    def size_of(x):\n",
    "        total = sys.getsizeof(x)\n",
    "        \n",
    "        if hasattr(x, '__iter__'):\n",
    "            if hasattr(x, 'items'):\n",
    "                for xx in x.items():\n",
    "                    total += size_of(xx)\n",
    "            elif not isinstance(x, str):\n",
    "                for xx in x:\n",
    "                    total += size_of(xx)\n",
    "                    \n",
    "        return total\n",
    "                    \n",
    "    \n",
    "    total_size = 0\n",
    "    for x in y.keys():\n",
    "        total_size += size_of(y[x])\n",
    "        \n",
    "        \n",
    "    return total_size"
   ]
  },
  {
   "cell_type": "code",
   "execution_count": 13,
   "metadata": {},
   "outputs": [],
   "source": [
    "def func1(dictionary, a=0, b=1e-10):\n",
    "    # test function one\n",
    "    c = 10\n",
    "    return locals()"
   ]
  },
  {
   "cell_type": "code",
   "execution_count": 14,
   "metadata": {},
   "outputs": [],
   "source": [
    "def func2(a=0, b=10):\n",
    "    # test function two\n",
    "    c = [(0, 1), (1, 10), (20, 10)]\n",
    "    name = 'func2'\n",
    "    d = {'firts': [10, 20], \"second\": ['Mocsov', 'St. Petesburg']}\n",
    "    return locals()"
   ]
  },
  {
   "cell_type": "code",
   "execution_count": 17,
   "metadata": {},
   "outputs": [
    {
     "name": "stdout",
     "output_type": "stream",
     "text": [
      "Memory usage in func1 is: 802 Б = 0.78 MБ\n",
      "Memory usage in func2 is: 1288 Б = 1.26 MБ\n"
     ]
    }
   ],
   "source": [
    "3\n",
    "size1 = get_size(func1({'lemon': 'yellow', 'tomato': 'red', 'orange': 'orenge'}))\n",
    "size2 = get_size(func2())\n",
    "print('Memory usage in func1 is: {:d} Б = {:.2f} MБ'.format(size1, size1 / 1024))\n",
    "print('Memory usage in func2 is: {:d} Б = {:.2f} MБ'.format(size2, size2 / 1024))"
   ]
  }
 ],
 "metadata": {
  "kernelspec": {
   "display_name": "Python 3",
   "language": "python",
   "name": "python3"
  },
  "language_info": {
   "codemirror_mode": {
    "name": "ipython",
    "version": 3
   },
   "file_extension": ".py",
   "mimetype": "text/x-python",
   "name": "python",
   "nbconvert_exporter": "python",
   "pygments_lexer": "ipython3",
   "version": "3.8.2"
  }
 },
 "nbformat": 4,
 "nbformat_minor": 4
}
